{
 "cells": [
  {
   "cell_type": "code",
   "execution_count": null,
   "metadata": {},
   "outputs": [],
   "source": [
    "import os\n",
    "import re\n",
    "\n",
    "# 定义一个函数，使用 ffmpeg 从视频中提取音频\n",
    "def extract_audio(video_path, audio_path):\n",
    "    command = f\"ffmpeg -i {video_path} -ar 16000 -ac 1 -vn {audio_path}\"\n",
    "    os.system(command)\n",
    "\n",
    "# 批量处理文件夹中的视频文件\n",
    "def process_videos_in_folder(folder_path, audio_folder):\n",
    "    # 确保音频文件夹存在，如果不存在则创建\n",
    "    os.makedirs(audio_folder, exist_ok=True)\n",
    "    \n",
    "    for video_filename in os.listdir(folder_path):\n",
    "        # 使用正则表达式提取文件名中的数字\n",
    "        match = re.search(r'\\d+', video_filename)\n",
    "        if match and video_filename.endswith(\".mp4\"):\n",
    "            video_path = os.path.join(folder_path, video_filename)\n",
    "            audio_filename = match.group() + \".wav\"  # 使用匹配到的数字作为音频文件名\n",
    "            audio_path = os.path.join(audio_folder, audio_filename)\n",
    "            print(f\"Extracting audio from {video_filename}...\")\n",
    "            extract_audio(video_path, audio_path)\n",
    "\n",
    "if __name__ == \"__main__\":\n",
    "    video_folder_path = \"/home/lab/data/hatemm/non_hate_videos\"  # 替换为你的视频文件夹路径\n",
    "    audio_folder_path = \"/home/lab/data/hatemm/non_hate_videos_audio\"  # 音频文件将被存储在这个子文件夹中\n",
    "    process_videos_in_folder(video_folder_path, audio_folder_path)\n"
   ]
  },
  {
   "cell_type": "markdown",
   "metadata": {},
   "source": [
    "# audio to text\n",
    "\n",
    "使用transcripts.sh文件，修改路径即可"
   ]
  },
  {
   "cell_type": "code",
   "execution_count": null,
   "metadata": {},
   "outputs": [],
   "source": []
  }
 ],
 "metadata": {
  "kernelspec": {
   "display_name": "chunyu",
   "language": "python",
   "name": "python3"
  },
  "language_info": {
   "codemirror_mode": {
    "name": "ipython",
    "version": 3
   },
   "file_extension": ".py",
   "mimetype": "text/x-python",
   "name": "python",
   "nbconvert_exporter": "python",
   "pygments_lexer": "ipython3",
   "version": "3.8.18"
  }
 },
 "nbformat": 4,
 "nbformat_minor": 2
}
